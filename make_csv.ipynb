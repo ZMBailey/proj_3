{
 "cells": [
  {
   "cell_type": "code",
   "execution_count": 24,
   "metadata": {},
   "outputs": [],
   "source": [
    "import csv\n",
    "import os\n",
    "import librosa\n",
    "import numpy as np\n",
    "\n",
    "header = ['Name',\n",
    "         'tempo',\n",
    "         'beats',\n",
    "         'chroma_stft',\n",
    "         'rmse',\n",
    "         'spec_cent',\n",
    "         'spec_bw',\n",
    "         'rolloff',\n",
    "         'zcr']\n",
    "header += ['mfcc_' + str(i) for i in range(1,12)]\n",
    "header += ['label']\n",
    "file = open('data.csv', 'w', newline='')\n",
    "with file:\n",
    "    writer = csv.writer(file)\n",
    "    writer.writerow(header)\n",
    "    genres = ['Metal','Hip_Hop']\n",
    "for genre in genres:\n",
    "    for filename in os.listdir('./songs/' + genre):\n",
    "        if filename.endswith('.mp3'):\n",
    "            songname = f'./songs/{genre}/{filename}'\n",
    "            y, sr = librosa.load(songname, sr=None, mono=True, duration=180)\n",
    "            tempo, beats = librosa.beat.beat_track(y=y, sr=sr)\n",
    "            chroma_stft = librosa.feature.chroma_stft(y=y, sr=sr)\n",
    "            rmse = librosa.feature.rmse(y=y)\n",
    "            spec_cent = librosa.feature.spectral_centroid(y=y, sr=sr)\n",
    "            spec_bw = librosa.feature.spectral_bandwidth(y=y, sr=sr)\n",
    "            rolloff = librosa.feature.spectral_rolloff(y=y, sr=sr)\n",
    "            zcr = librosa.feature.zero_crossing_rate(y)\n",
    "            mfcc = librosa.feature.mfcc(y=y, sr=sr, n_mfcc=12)\n",
    "            label = genre\n",
    "            to_append = f'{tempo},{beats.shape[0]},{np.mean(chroma_stft)},{np.mean(rmse)},{np.mean(spec_cent)}'\n",
    "            to_append += f',{np.mean(spec_bw)},{np.mean(rolloff)},{np.mean(zcr)}'    \n",
    "            for e in mfcc[1:]:\n",
    "                to_append += f',{np.mean(e)}'\n",
    "            to_append += f',{label}'\n",
    "            file = open('data.csv', 'a', newline='')\n",
    "            with file:\n",
    "                writer = csv.writer(file)\n",
    "                list_to_append = [filename] + to_append.split(',')\n",
    "                writer.writerow(list_to_append)\n"
   ]
  },
  {
   "cell_type": "code",
   "execution_count": 14,
   "metadata": {},
   "outputs": [
    {
     "data": {
      "text/plain": [
       "['mfcc_1',\n",
       " 'mfcc_2',\n",
       " 'mfcc_3',\n",
       " 'mfcc_4',\n",
       " 'mfcc_5',\n",
       " 'mfcc_6',\n",
       " 'mfcc_7',\n",
       " 'mfcc_8',\n",
       " 'mfcc_9',\n",
       " 'mfcc_10',\n",
       " 'mfcc_11']"
      ]
     },
     "execution_count": 14,
     "metadata": {},
     "output_type": "execute_result"
    }
   ],
   "source": [
    "mfcc_labels = ['mfcc_' + str(i) for i in range(1,12)]\n",
    "mfcc_labels"
   ]
  },
  {
   "cell_type": "code",
   "execution_count": null,
   "metadata": {},
   "outputs": [],
   "source": []
  }
 ],
 "metadata": {
  "kernelspec": {
   "display_name": "learn-env",
   "language": "python",
   "name": "learn-env"
  },
  "language_info": {
   "codemirror_mode": {
    "name": "ipython",
    "version": 3
   },
   "file_extension": ".py",
   "mimetype": "text/x-python",
   "name": "python",
   "nbconvert_exporter": "python",
   "pygments_lexer": "ipython3",
   "version": "3.6.6"
  }
 },
 "nbformat": 4,
 "nbformat_minor": 2
}
