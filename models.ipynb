{
 "cells": [
  {
   "cell_type": "code",
   "execution_count": 15,
   "metadata": {},
   "outputs": [],
   "source": [
    "import pandas as pd\n",
    "import numpy as np\n",
    "from sklearn.model_selection import train_test_split, cross_val_score, GridSearchCV\n",
    "from sklearn.linear_model import LogisticRegression\n",
    "from sklearn.preprocessing import StandardScaler\n",
    "from sklearn.metrics import accuracy_score\n",
    "from sklearn.neighbors import KNeighborsClassifier\n",
    "from sklearn.tree import DecisionTreeClassifier\n",
    "from sklearn.ensemble import RandomForestClassifier, BaggingClassifier\n",
    "from sklearn.decomposition import PCA\n",
    "import xgboost as xgb"
   ]
  },
  {
   "cell_type": "code",
   "execution_count": 16,
   "metadata": {},
   "outputs": [
    {
     "data": {
      "text/html": [
       "<div>\n",
       "<style scoped>\n",
       "    .dataframe tbody tr th:only-of-type {\n",
       "        vertical-align: middle;\n",
       "    }\n",
       "\n",
       "    .dataframe tbody tr th {\n",
       "        vertical-align: top;\n",
       "    }\n",
       "\n",
       "    .dataframe thead th {\n",
       "        text-align: right;\n",
       "    }\n",
       "</style>\n",
       "<table border=\"1\" class=\"dataframe\">\n",
       "  <thead>\n",
       "    <tr style=\"text-align: right;\">\n",
       "      <th></th>\n",
       "      <th>name</th>\n",
       "      <th>tempo</th>\n",
       "      <th>beats</th>\n",
       "      <th>chroma_stft</th>\n",
       "      <th>rmse</th>\n",
       "      <th>spec_cent</th>\n",
       "      <th>spec_bw</th>\n",
       "      <th>rolloff</th>\n",
       "      <th>zcr</th>\n",
       "      <th>mfcc_1</th>\n",
       "      <th>...</th>\n",
       "      <th>mfcc_3</th>\n",
       "      <th>mfcc_4</th>\n",
       "      <th>mfcc_5</th>\n",
       "      <th>mfcc_6</th>\n",
       "      <th>mfcc_7</th>\n",
       "      <th>mfcc_8</th>\n",
       "      <th>mfcc_9</th>\n",
       "      <th>mfcc_10</th>\n",
       "      <th>mfcc_11</th>\n",
       "      <th>label</th>\n",
       "    </tr>\n",
       "  </thead>\n",
       "  <tbody>\n",
       "    <tr>\n",
       "      <th>0</th>\n",
       "      <td>Aaron Lewis - 'Country Boy' (Official Video).m...</td>\n",
       "      <td>125.000000</td>\n",
       "      <td>59</td>\n",
       "      <td>0.409949</td>\n",
       "      <td>0.044608</td>\n",
       "      <td>2684.678379</td>\n",
       "      <td>3327.070199</td>\n",
       "      <td>5616.759798</td>\n",
       "      <td>0.054827</td>\n",
       "      <td>150.374682</td>\n",
       "      <td>...</td>\n",
       "      <td>41.741827</td>\n",
       "      <td>-12.544442</td>\n",
       "      <td>28.144194</td>\n",
       "      <td>-13.241323</td>\n",
       "      <td>17.689333</td>\n",
       "      <td>-4.589490</td>\n",
       "      <td>3.226390</td>\n",
       "      <td>-4.043833</td>\n",
       "      <td>4.592962</td>\n",
       "      <td>Country</td>\n",
       "    </tr>\n",
       "    <tr>\n",
       "      <th>1</th>\n",
       "      <td>Aaron Lewis - 'Country Boy' (Official Video).m...</td>\n",
       "      <td>119.680851</td>\n",
       "      <td>58</td>\n",
       "      <td>0.431026</td>\n",
       "      <td>0.053247</td>\n",
       "      <td>2512.620073</td>\n",
       "      <td>3235.770491</td>\n",
       "      <td>4958.476826</td>\n",
       "      <td>0.053470</td>\n",
       "      <td>162.977125</td>\n",
       "      <td>...</td>\n",
       "      <td>29.105995</td>\n",
       "      <td>-7.695438</td>\n",
       "      <td>26.248572</td>\n",
       "      <td>-13.276758</td>\n",
       "      <td>15.348517</td>\n",
       "      <td>1.977714</td>\n",
       "      <td>0.815487</td>\n",
       "      <td>-3.722481</td>\n",
       "      <td>5.629056</td>\n",
       "      <td>Country</td>\n",
       "    </tr>\n",
       "    <tr>\n",
       "      <th>2</th>\n",
       "      <td>Aaron Lewis - 'Country Boy' (Official Video).m...</td>\n",
       "      <td>122.282609</td>\n",
       "      <td>59</td>\n",
       "      <td>0.412145</td>\n",
       "      <td>0.068782</td>\n",
       "      <td>2998.444102</td>\n",
       "      <td>3466.782972</td>\n",
       "      <td>6078.969294</td>\n",
       "      <td>0.068072</td>\n",
       "      <td>152.629035</td>\n",
       "      <td>...</td>\n",
       "      <td>36.643452</td>\n",
       "      <td>-11.062471</td>\n",
       "      <td>28.772055</td>\n",
       "      <td>-18.319343</td>\n",
       "      <td>11.178653</td>\n",
       "      <td>-6.798670</td>\n",
       "      <td>2.469059</td>\n",
       "      <td>-1.228891</td>\n",
       "      <td>10.052697</td>\n",
       "      <td>Country</td>\n",
       "    </tr>\n",
       "    <tr>\n",
       "      <th>3</th>\n",
       "      <td>Aaron Lewis - 'Country Boy' (Official Video).m...</td>\n",
       "      <td>122.282609</td>\n",
       "      <td>60</td>\n",
       "      <td>0.444166</td>\n",
       "      <td>0.066796</td>\n",
       "      <td>2655.326652</td>\n",
       "      <td>3391.723254</td>\n",
       "      <td>5624.541748</td>\n",
       "      <td>0.050296</td>\n",
       "      <td>158.986251</td>\n",
       "      <td>...</td>\n",
       "      <td>36.675408</td>\n",
       "      <td>-7.856390</td>\n",
       "      <td>27.634004</td>\n",
       "      <td>-10.692985</td>\n",
       "      <td>12.890847</td>\n",
       "      <td>-4.277223</td>\n",
       "      <td>6.024352</td>\n",
       "      <td>0.130230</td>\n",
       "      <td>1.666965</td>\n",
       "      <td>Country</td>\n",
       "    </tr>\n",
       "    <tr>\n",
       "      <th>4</th>\n",
       "      <td>Aaron Lewis - 'Country Boy' (Official Video).m...</td>\n",
       "      <td>122.282609</td>\n",
       "      <td>60</td>\n",
       "      <td>0.466898</td>\n",
       "      <td>0.076664</td>\n",
       "      <td>3007.087096</td>\n",
       "      <td>3441.825995</td>\n",
       "      <td>6096.982759</td>\n",
       "      <td>0.067290</td>\n",
       "      <td>153.416765</td>\n",
       "      <td>...</td>\n",
       "      <td>40.225236</td>\n",
       "      <td>-10.441213</td>\n",
       "      <td>34.054399</td>\n",
       "      <td>-17.073473</td>\n",
       "      <td>12.644855</td>\n",
       "      <td>-3.648381</td>\n",
       "      <td>3.667546</td>\n",
       "      <td>-2.283970</td>\n",
       "      <td>9.682853</td>\n",
       "      <td>Country</td>\n",
       "    </tr>\n",
       "  </tbody>\n",
       "</table>\n",
       "<p>5 rows × 21 columns</p>\n",
       "</div>"
      ],
      "text/plain": [
       "                                                name       tempo  beats  \\\n",
       "0  Aaron Lewis - 'Country Boy' (Official Video).m...  125.000000     59   \n",
       "1  Aaron Lewis - 'Country Boy' (Official Video).m...  119.680851     58   \n",
       "2  Aaron Lewis - 'Country Boy' (Official Video).m...  122.282609     59   \n",
       "3  Aaron Lewis - 'Country Boy' (Official Video).m...  122.282609     60   \n",
       "4  Aaron Lewis - 'Country Boy' (Official Video).m...  122.282609     60   \n",
       "\n",
       "   chroma_stft      rmse    spec_cent      spec_bw      rolloff       zcr  \\\n",
       "0     0.409949  0.044608  2684.678379  3327.070199  5616.759798  0.054827   \n",
       "1     0.431026  0.053247  2512.620073  3235.770491  4958.476826  0.053470   \n",
       "2     0.412145  0.068782  2998.444102  3466.782972  6078.969294  0.068072   \n",
       "3     0.444166  0.066796  2655.326652  3391.723254  5624.541748  0.050296   \n",
       "4     0.466898  0.076664  3007.087096  3441.825995  6096.982759  0.067290   \n",
       "\n",
       "       mfcc_1   ...        mfcc_3     mfcc_4     mfcc_5     mfcc_6     mfcc_7  \\\n",
       "0  150.374682   ...     41.741827 -12.544442  28.144194 -13.241323  17.689333   \n",
       "1  162.977125   ...     29.105995  -7.695438  26.248572 -13.276758  15.348517   \n",
       "2  152.629035   ...     36.643452 -11.062471  28.772055 -18.319343  11.178653   \n",
       "3  158.986251   ...     36.675408  -7.856390  27.634004 -10.692985  12.890847   \n",
       "4  153.416765   ...     40.225236 -10.441213  34.054399 -17.073473  12.644855   \n",
       "\n",
       "     mfcc_8    mfcc_9   mfcc_10    mfcc_11    label  \n",
       "0 -4.589490  3.226390 -4.043833   4.592962  Country  \n",
       "1  1.977714  0.815487 -3.722481   5.629056  Country  \n",
       "2 -6.798670  2.469059 -1.228891  10.052697  Country  \n",
       "3 -4.277223  6.024352  0.130230   1.666965  Country  \n",
       "4 -3.648381  3.667546 -2.283970   9.682853  Country  \n",
       "\n",
       "[5 rows x 21 columns]"
      ]
     },
     "execution_count": 16,
     "metadata": {},
     "output_type": "execute_result"
    }
   ],
   "source": [
    "df = pd.read_csv('data_3k.csv')#, index_col='Unnamed: 0')\n",
    "df.head()"
   ]
  },
  {
   "cell_type": "code",
   "execution_count": 25,
   "metadata": {},
   "outputs": [
    {
     "name": "stdout",
     "output_type": "stream",
     "text": [
      "<class 'pandas.core.frame.DataFrame'>\n",
      "RangeIndex: 3822 entries, 0 to 3821\n",
      "Data columns (total 21 columns):\n",
      "name           3822 non-null object\n",
      "tempo          3822 non-null float64\n",
      "beats          3822 non-null int64\n",
      "chroma_stft    3822 non-null float64\n",
      "rmse           3822 non-null float64\n",
      "spec_cent      3822 non-null float64\n",
      "spec_bw        3822 non-null float64\n",
      "rolloff        3822 non-null float64\n",
      "zcr            3822 non-null float64\n",
      "mfcc_1         3822 non-null float64\n",
      "mfcc_2         3822 non-null float64\n",
      "mfcc_3         3822 non-null float64\n",
      "mfcc_4         3822 non-null float64\n",
      "mfcc_5         3822 non-null float64\n",
      "mfcc_6         3822 non-null float64\n",
      "mfcc_7         3822 non-null float64\n",
      "mfcc_8         3822 non-null float64\n",
      "mfcc_9         3822 non-null float64\n",
      "mfcc_10        3822 non-null float64\n",
      "mfcc_11        3822 non-null float64\n",
      "label          3822 non-null object\n",
      "dtypes: float64(18), int64(1), object(2)\n",
      "memory usage: 627.1+ KB\n"
     ]
    }
   ],
   "source": [
    "df.info()"
   ]
  },
  {
   "cell_type": "code",
   "execution_count": null,
   "metadata": {},
   "outputs": [],
   "source": [
    "#Assign int to genres\n",
    "genre_dict = {\n",
    "    'Country' : 0,\n",
    "    'Classical' : 1,\n",
    "    'Metal' : 2,\n",
    "    'Jazz' : 3,\n",
    "    'Hip_Hop' : 4,\n",
    "    'Electronic' : 5\n",
    "}\n",
    "\n",
    "df['label'] = df['label'].map(genre_dict)\n",
    "#df_test = df[(df['label'] != 0) & (df['label'] != 3) & (df['label'] != 5)]\n",
    "X = df.drop(['name','label'],axis=1)\n",
    "y = df['label']"
   ]
  },
  {
   "cell_type": "code",
   "execution_count": null,
   "metadata": {},
   "outputs": [],
   "source": [
    "#split data\n",
    "\n",
    "X_train,X_test,y_train,y_test = train_test_split(X,y,random_state=10)\n",
    "\n",
    "scaler = StandardScaler()\n",
    "X_scaled = scaler.fit_transform(X)\n",
    "scaler_train = StandardScaler()\n",
    "X_train_scaled = scaler_train.fit_transform(X_train)\n",
    "X_test_scaled = scaler_train.transform(X_test)"
   ]
  },
  {
   "cell_type": "code",
   "execution_count": null,
   "metadata": {},
   "outputs": [],
   "source": [
    "#Logisitic Regression\n",
    "logreg = LogisticRegression(solver='lbfgs', multi_class='multinomial')\n",
    "log_score = np.mean(cross_val_score(logreg,X_scaled,y,cv=3))\n",
    "print(\"Mean Cross Validation Score: \", log_score)"
   ]
  },
  {
   "cell_type": "code",
   "execution_count": null,
   "metadata": {},
   "outputs": [],
   "source": [
    "logreg.fit(X_train_scaled,y_train)\n",
    "logreg_score = logreg.score(X_test_scaled,y_test)\n",
    "print(\"Logistic Regression: \", logreg_score)"
   ]
  },
  {
   "cell_type": "code",
   "execution_count": null,
   "metadata": {},
   "outputs": [],
   "source": [
    "#Decision Trees\n",
    "dtc = DecisionTreeClassifier()\n",
    "dtc_cv_score = np.mean(cross_val_score(dtc,X,y,cv=3))\n",
    "dtc.fit(X_train,y_train)\n",
    "dtc_acc_score = dtc.score(X_test,y_test)\n",
    "print(\"Accuracy Score: \",dtc_acc_score)\n",
    "print(\"Mean Cross Val Score: \",dtc_cv_score)"
   ]
  },
  {
   "cell_type": "code",
   "execution_count": null,
   "metadata": {},
   "outputs": [],
   "source": [
    "param_grid = {\n",
    "    'max_depth' : [],\n",
    "    'min_samples_splt' : [],\n",
    "    'min_samples_leaf' : [],\n",
    "}\n",
    "\n",
    "grid_search = GridSearchCV(dtc, param_grid, cv=3, return_train_score=True)\n",
    "grid_search.fit(scaled_X_train,y_train)"
   ]
  },
  {
   "cell_type": "code",
   "execution_count": null,
   "metadata": {},
   "outputs": [],
   "source": [
    "gs_train_score = np.mean(grid_search.cv_results_['mean_train_score'])\n",
    "gs_test_score = grid_search.score(X_test,y_test)\n",
    "print(\"Mean training score: \", gs_train_score)\n",
    "print(\"Mean test score: \", gs_test_score)\n",
    "print(\"Best params: \")\n",
    "gs_grid_search.best_params_"
   ]
  },
  {
   "cell_type": "code",
   "execution_count": null,
   "metadata": {},
   "outputs": [],
   "source": [
    "#Random Forests\n",
    "#Bagged\n",
    "bag = BaggingClassifier(n_estimators=100)\n",
    "bag.fit(X_train, y_train)\n",
    "print(\"Bagged score: \", bag.score(X_test,y_test))\n",
    "#Random Forest\n",
    "rf = RandomForestClassifier(n_estimators=100)\n",
    "rf.fit(X_train,y_train)\n",
    "print(\"Random Forest Score: \", rf.score(X_test,y_test))"
   ]
  },
  {
   "cell_type": "code",
   "execution_count": null,
   "metadata": {},
   "outputs": [],
   "source": [
    "#k-nearest neighbors\n",
    "n = 1\n",
    "p = 100\n",
    "knn = KNeighborsClassifier(n_neighbors=n, p=p)\n",
    "knn.fit(X_train_scaled,y_train)\n",
    "print(\"K_Nearest Neightbors: \", knn.score(X_test_scaled,y_test))"
   ]
  },
  {
   "cell_type": "code",
   "execution_count": null,
   "metadata": {},
   "outputs": [],
   "source": [
    "#XGBoost\n",
    "#Scale?\n",
    "# scaler = StandardScaler()\n",
    "# scaler.fit(X)\n",
    "# scaled_X = scaler.transform(X)\n",
    "\n",
    "# pca = PCA(n_components=4)\n",
    "# X_train_pca = pca.fit_transform(X_train_scaled)\n",
    "# X_train,X_test,y_train,y_test = train_test_split(scaled_X,y,random_state=10)\n",
    "\n",
    "#Classifier\n",
    "\n",
    "xgb_clf = xgb.XGBClassifier(n_estimators=10)\n",
    "\n",
    "xgb_clf.fit(X_train_scaled,y_train, verbose=True)\n",
    "# train_preds = xgb_clf.predict(X_train_scaled)\n",
    "# test_preds = xgb_clf.predict(X_test_scaled)\n",
    "# train_acc = accuracy_score(y_train,train_preds)\n",
    "# test_acc = accuracy_score(y_test,test_preds)\n",
    "# print(\"XGBoost Scores\")\n",
    "# print(\"Train Score: \", train_acc * 100)\n",
    "# print(\"Test Score: \", test_acc * 100)"
   ]
  },
  {
   "cell_type": "code",
   "execution_count": 21,
   "metadata": {},
   "outputs": [
    {
     "name": "stdout",
     "output_type": "stream",
     "text": [
      "The autoreload extension is already loaded. To reload it, use:\n",
      "  %reload_ext autoreload\n"
     ]
    }
   ],
   "source": [
    "from SongClassifier import SongClassifier\n",
    "%load_ext autoreload\n",
    "%autoreload 2"
   ]
  },
  {
   "cell_type": "code",
   "execution_count": 46,
   "metadata": {},
   "outputs": [
    {
     "name": "stdout",
     "output_type": "stream",
     "text": [
      "[youtube] ye5BuYf8q4o: Downloading webpage\n",
      "[youtube] ye5BuYf8q4o: Downloading video info webpage\n",
      "[download] Destination: mystery_song.webm\n",
      "[download] 100% of 4.40MiB in 00:00\n",
      "[ffmpeg] Destination: mystery_song.mp3\n",
      "Deleting original file mystery_song.webm (pass -k to keep)\n",
      "-----------------------\n",
      "Probability of Genre:\n",
      "-----------------------\n",
      "Country : 7.28%\n",
      "Jazz : 8.74%\n",
      "Metal : 47.449999999999996%\n",
      "Hip_Hop : 4.8500000000000005%\n",
      "Electronic : 1.29%\n",
      "Classical : 30.4%\n"
     ]
    }
   ],
   "source": [
    "sc = SongClassifier()\n",
    "#Lynard Skinard - Sweet Home Alabama\n",
    "sc.fit('https://www.youtube.com/watch?v=ye5BuYf8q4o')"
   ]
  },
  {
   "cell_type": "code",
   "execution_count": 47,
   "metadata": {},
   "outputs": [
    {
     "name": "stdout",
     "output_type": "stream",
     "text": [
      "[youtube] PKWFvbgkWls: Downloading webpage\n",
      "[youtube] PKWFvbgkWls: Downloading video info webpage\n",
      "[download] Destination: mystery_song.webm\n",
      "[download] 100% of 3.77MiB in 00:00\n",
      "[ffmpeg] Destination: mystery_song.mp3\n",
      "Deleting original file mystery_song.webm (pass -k to keep)\n",
      "-----------------------\n",
      "Probability of Genre:\n",
      "-----------------------\n",
      "Country : 2.69%\n",
      "Jazz : 9.49%\n",
      "Metal : 21.75%\n",
      "Hip_Hop : 57.87%\n",
      "Electronic : 7.779999999999999%\n",
      "Classical : 0.42%\n"
     ]
    }
   ],
   "source": [
    "#sc2 = SongClassifier()\n",
    "#wiz khalifa - never been\n",
    "sc.fit('https://www.youtube.com/watch?v=PKWFvbgkWls')"
   ]
  },
  {
   "cell_type": "code",
   "execution_count": 48,
   "metadata": {},
   "outputs": [
    {
     "name": "stdout",
     "output_type": "stream",
     "text": [
      "[youtube] idn50Xj_CiY: Downloading webpage\n",
      "[youtube] idn50Xj_CiY: Downloading video info webpage\n",
      "[download] Destination: mystery_song.webm\n",
      "[download] 100% of 6.38MiB in 00:00\n",
      "[ffmpeg] Destination: mystery_song.mp3\n",
      "Deleting original file mystery_song.webm (pass -k to keep)\n",
      "-----------------------\n",
      "Probability of Genre:\n",
      "-----------------------\n",
      "Country : 57.84%\n",
      "Jazz : 20.9%\n",
      "Metal : 15.160000000000002%\n",
      "Hip_Hop : 1.97%\n",
      "Electronic : 3.09%\n",
      "Classical : 1.03%\n"
     ]
    }
   ],
   "source": [
    "#Black Sabbath - Heaven and Hell\n",
    "sc.fit('https://www.youtube.com/watch?v=idn50Xj_CiY')"
   ]
  },
  {
   "cell_type": "code",
   "execution_count": 49,
   "metadata": {},
   "outputs": [
    {
     "name": "stdout",
     "output_type": "stream",
     "text": [
      "[youtube] ZkW-K5RQdzo: Downloading webpage\n",
      "[youtube] ZkW-K5RQdzo: Downloading video info webpage\n",
      "[download] Destination: mystery_song.webm\n",
      "[download] 100% of 2.79MiB in 00:00\n",
      "[ffmpeg] Destination: mystery_song.mp3\n",
      "Deleting original file mystery_song.webm (pass -k to keep)\n",
      "-----------------------\n",
      "Probability of Genre:\n",
      "-----------------------\n",
      "Country : 3.2199999999999998%\n",
      "Jazz : 0.53%\n",
      "Metal : 61.1%\n",
      "Hip_Hop : 27.689999999999998%\n",
      "Electronic : 6.63%\n",
      "Classical : 0.84%\n"
     ]
    }
   ],
   "source": [
    "#Rammstein - Feuer Frei\n",
    "sc.fit('https://www.youtube.com/watch?v=ZkW-K5RQdzo')"
   ]
  },
  {
   "cell_type": "code",
   "execution_count": 50,
   "metadata": {},
   "outputs": [
    {
     "name": "stdout",
     "output_type": "stream",
     "text": [
      "[youtube] CGfKi6kpdTQ: Downloading webpage\n",
      "[youtube] CGfKi6kpdTQ: Downloading video info webpage\n",
      "[download] Destination: mystery_song.webm\n",
      "[download] 100% of 4.00MiB in 00:00\n",
      "[ffmpeg] Destination: mystery_song.mp3\n",
      "Deleting original file mystery_song.webm (pass -k to keep)\n",
      "-----------------------\n",
      "Probability of Genre:\n",
      "-----------------------\n",
      "Country : 1.66%\n",
      "Jazz : 10.61%\n",
      "Metal : 64.42999999999999%\n",
      "Hip_Hop : 12.53%\n",
      "Electronic : 2.13%\n",
      "Classical : 8.649999999999999%\n"
     ]
    }
   ],
   "source": [
    "#Scorpions - Rock you like a hurricaine\n",
    "sc.fit('https://www.youtube.com/watch?v=CGfKi6kpdTQ')"
   ]
  },
  {
   "cell_type": "code",
   "execution_count": 51,
   "metadata": {},
   "outputs": [
    {
     "name": "stdout",
     "output_type": "stream",
     "text": [
      "[youtube] KQDcrFVN8mk: Downloading webpage\n",
      "[youtube] KQDcrFVN8mk: Downloading video info webpage\n",
      "[download] Destination: mystery_song.webm\n",
      "[download] 100% of 5.90MiB in 00:00\n",
      "[ffmpeg] Destination: mystery_song.mp3\n",
      "Deleting original file mystery_song.webm (pass -k to keep)\n",
      "-----------------------\n",
      "Probability of Genre:\n",
      "-----------------------\n",
      "Country : 27.060000000000002%\n",
      "Jazz : 0.38999999999999996%\n",
      "Metal : 56.36%\n",
      "Hip_Hop : 10.530000000000001%\n",
      "Electronic : 3.36%\n",
      "Classical : 2.3%\n"
     ]
    }
   ],
   "source": [
    "#The Mars Volta - Eriatarka\n",
    "sc.fit('https://www.youtube.com/watch?v=KQDcrFVN8mk')"
   ]
  },
  {
   "cell_type": "code",
   "execution_count": 52,
   "metadata": {},
   "outputs": [
    {
     "name": "stdout",
     "output_type": "stream",
     "text": [
      "[youtube] SQyPVBtLXk0: Downloading webpage\n",
      "[youtube] SQyPVBtLXk0: Downloading video info webpage\n",
      "[download] Destination: mystery_song.webm\n",
      "[download] 100% of 2.85MiB in 00:00\n",
      "[ffmpeg] Destination: mystery_song.mp3\n",
      "Deleting original file mystery_song.webm (pass -k to keep)\n",
      "-----------------------\n",
      "Probability of Genre:\n",
      "-----------------------\n",
      "Country : 42.67%\n",
      "Jazz : 16.24%\n",
      "Metal : 1.87%\n",
      "Hip_Hop : 2.6599999999999997%\n",
      "Electronic : 2.02%\n",
      "Classical : 34.53%\n"
     ]
    }
   ],
   "source": [
    "#Fare Thee Well - Marcus Mumfors & Oscar Isaac\n",
    "sc.fit('https://www.youtube.com/watch?v=SQyPVBtLXk0')"
   ]
  },
  {
   "cell_type": "code",
   "execution_count": null,
   "metadata": {},
   "outputs": [],
   "source": []
  }
 ],
 "metadata": {
  "kernelspec": {
   "display_name": "learn-env",
   "language": "python",
   "name": "learn-env"
  },
  "language_info": {
   "codemirror_mode": {
    "name": "ipython",
    "version": 3
   },
   "file_extension": ".py",
   "mimetype": "text/x-python",
   "name": "python",
   "nbconvert_exporter": "python",
   "pygments_lexer": "ipython3",
   "version": "3.6.6"
  }
 },
 "nbformat": 4,
 "nbformat_minor": 2
}
